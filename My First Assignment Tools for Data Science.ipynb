{
 "cells": [
  {
   "cell_type": "markdown",
   "id": "255f5640-f809-4751-a833-447e19bbf1fa",
   "metadata": {},
   "source": [
    "# My Jupyter Notebook on IBM Watson Studio"
   ]
  },
  {
   "cell_type": "markdown",
   "id": "8d5272ba-5948-48eb-97c5-a875660449f2",
   "metadata": {},
   "source": [
    "**Clemence Patayo**\n",
    "\n",
    "Data Officer"
   ]
  },
  {
   "cell_type": "markdown",
   "id": "05b1a6fd-5f18-49c1-9fc8-c76cd66c573c",
   "metadata": {},
   "source": [
    "*I'm interrested in Data Science because I want to help others see the insights that are hidden in the data and help them make informed decision*"
   ]
  },
  {
   "cell_type": "markdown",
   "id": "77559e54-166e-414d-b97a-cb7d732154a1",
   "metadata": {},
   "source": [
    "### the code below add two numbers and print the output"
   ]
  },
  {
   "cell_type": "code",
   "execution_count": 1,
   "id": "f90d2879-c648-4e44-af32-7abe1440029f",
   "metadata": {},
   "outputs": [
    {
     "name": "stdout",
     "output_type": "stream",
     "text": [
      "84\n"
     ]
    }
   ],
   "source": [
    "x=25\n",
    "y=59\n",
    "print(x+y)"
   ]
  },
  {
   "cell_type": "code",
   "execution_count": null,
   "id": "3fb1a4b7-33ce-4877-a802-d68f9f8b28d2",
   "metadata": {},
   "outputs": [],
   "source": []
  }
 ],
 "metadata": {
  "kernelspec": {
   "display_name": "Python",
   "language": "python",
   "name": "conda-env-python-py"
  },
  "language_info": {
   "codemirror_mode": {
    "name": "ipython",
    "version": 3
   },
   "file_extension": ".py",
   "mimetype": "text/x-python",
   "name": "python",
   "nbconvert_exporter": "python",
   "pygments_lexer": "ipython3",
   "version": "3.7.12"
  }
 },
 "nbformat": 4,
 "nbformat_minor": 5
}
